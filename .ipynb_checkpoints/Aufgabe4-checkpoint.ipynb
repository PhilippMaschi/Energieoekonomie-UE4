{
 "cells": [
  {
   "cell_type": "markdown",
   "metadata": {},
   "source": [
    "# 4. Energiepolitische Instrumente"
   ]
  },
  {
   "cell_type": "markdown",
   "metadata": {},
   "source": [
    "## 4.1 Nachfrageelastizität"
   ]
  },
  {
   "cell_type": "code",
   "execution_count": 23,
   "metadata": {},
   "outputs": [],
   "source": [
    "import numpy as np\n",
    "import matplotlib.pyplot as plt\n",
    "import warnings\n",
    "warnings.filterwarnings('ignore')\n",
    "%matplotlib inline"
   ]
  },
  {
   "cell_type": "markdown",
   "metadata": {},
   "source": [
    "a)"
   ]
  },
  {
   "cell_type": "code",
   "execution_count": 24,
   "metadata": {},
   "outputs": [
    {
     "name": "stdout",
     "output_type": "stream",
     "text": [
      "alpha:\n",
      "inf\n",
      "3.0\n",
      "1.0\n",
      "0.3333333333333333\n"
     ]
    }
   ],
   "source": [
    "pe = np.array([160, 120, 80, 40, 0])\n",
    "E = 80 - 0.5*pe\n",
    "# Preisänderung ist immer 40:\n",
    "delta_pe = 40\n",
    "# Nachfrageänderung ist immer 20:\n",
    "delta_E = 20\n",
    "\n",
    "alpha = (delta_E/E) / (delta_pe/pe)\n",
    "alpha = alpha[:-1]\n",
    "print(\"alpha:\")\n",
    "for i in alpha:\n",
    "    print(i)"
   ]
  },
  {
   "cell_type": "markdown",
   "metadata": {},
   "source": [
    "Bei der ersten Preissenkung ist die Preiselastizität unendlich, weil die ursprüngliche Nachfrage gleich Null ist. Bei einer Preisminderung von 120 auf 80 ist alpha=3, was bedeutet, dass die Nachfrage sehr elastisch ist und stark steigt. Bei einer Preissenkung von 80 auf 40 ist alpha=1. Die Nachfrage ist immer noch elastisch und steigt relativ gleich stark wie der Preis sinkt. Wird der Preis von 40 auf 0 gesetzt ergibt sich eine Preiselastizität von 0.3. Das heißt die Nachfrage reagiert eher unelastisch."
   ]
  },
  {
   "cell_type": "markdown",
   "metadata": {},
   "source": [
    "b) Wenn die Preiselastizität -3, beträgt dann wird der Energieanbieter seinen Preis nicht steigern weil eine Steigerung des Preises eine drei mal so hohe Verringerung der Nachfrage bewirken würde. Ist die Preiselastizität gleich -1 bewirkt eine Steigerung des Preises eine genauso hohe Reduktion der Nachfrage, daher wird der Energieanbieter auch hier  die Preise nicht steigern. Bei einer Preiselastizität von -0.5 sinkt die Nachfrage prozentuell um die Hälfte der Prozentuellen Steigerung (bei einer Steigerung des Preises von 10% sinkt die Nachfrage um 5%). Darum wird der Energieanbieter seinen Preis vielleicht etwas anheben, allerdings nie mehr als 100% denn bei einer Preiserhöhun von über 100% würde die sinkende Nachfrage (-50%) zu insgesamt geringeren Einnahmen führen."
   ]
  },
  {
   "cell_type": "code",
   "execution_count": 25,
   "metadata": {},
   "outputs": [
    {
     "name": "stdout",
     "output_type": "stream",
     "text": [
      "alpha:\n",
      "[1. 1. 1. 1.]\n"
     ]
    },
    {
     "data": {
      "image/png": "[encoded data removed]",
      "text/plain": [
       "<Figure size 432x288 with 1 Axes>"
      ]
     },
     "metadata": {
      "needs_background": "light"
     },
     "output_type": "display_data"
    }
   ],
   "source": [
    "# c)\n",
    "E = pe\n",
    "# Preisänderung ist immer 40:\n",
    "delta_pe = 40\n",
    "# Nachfrageänderung ist immer 20:\n",
    "delta_E = 40\n",
    "\n",
    "alpha = (delta_E/E) / (delta_pe/pe)\n",
    "alpha = alpha[:-1]\n",
    "print(\"alpha:\")\n",
    "print(alpha)\n",
    "\n",
    "plt.plot(E,pe)\n",
    "plt.xlabel(\"Nachfrage\")\n",
    "plt.ylabel(\"Preis\")\n",
    "plt.show()"
   ]
  },
  {
   "cell_type": "markdown",
   "metadata": {},
   "source": [
    "Für die Funktion E(pe)=pe bleibt die Preiselastizität immer 1. Wird in der Realität natürlich nicht auf treten."
   ]
  },
  {
   "cell_type": "markdown",
   "metadata": {},
   "source": [
    "## 4.2 Emissionssteuer vs. Emissionshandel"
   ]
  },
  {
   "cell_type": "markdown",
   "metadata": {},
   "source": [
    "a)<br> Einführung einer Emissionssteuer in der Höhe von t*:<br>\n",
    "Da es Kostengünstiger ist emmissionsvermeidende Maßnahmen in der Höhe von e* zu setzen, als die Emissionssteuer zu bezahlen werden beide Firmen bis (t*,e*) auf Emissionsvermeidende Maßnahmen setzten.<br>\n",
    "Da e(i) + e(ii) = E ist, wird effektiv da Ziel zur Reduktion von E erreicht. <br> \n",
    "Die Vermeidungskosten der Firmen betragen: <br>\n",
    "Firma(i): C+G+K+J <br>\n",
    "Firma(ii): K+G+C+B+F"
   ]
  },
  {
   "cell_type": "markdown",
   "metadata": {},
   "source": [
    "b) <br>\n",
    "Emissionsgrenze durch Zertifikate: <br>\n",
    "<br>\n",
    "Ergebnis ohne Emissionshandel:<br>\n",
    "Firma(i) wird ihre Emissionen genau bis E reduzieren da sie keine höheren Preise erwarten müssen solange sie die Reduktion von E einhalten. Firma(ii) wird die die Emissionen auch bis E einhalten weil, sie keine andere Wahl hat. <br>\n",
    "Vermeidungskosten der Firmen:<br>\n",
    "Firma(i): C<br>\n",
    "Firma(ii): K+G+F+D<br>\n",
    "<br>\n",
    "Ergebnis mit Emissionshandel:<br>\n",
    "Firma(ii) wird von Fima(i) Emissionszertifikate zukaufen und beide Firmen werden wieder bis e reduzieren. <br>\n",
    "Vermeidungskosten der Firmen:<br>\n",
    "Firma(i+ii):C+G+K"
   ]
  },
  {
   "cell_type": "markdown",
   "metadata": {},
   "source": [
    "### 4.2.1"
   ]
  },
  {
   "cell_type": "markdown",
   "metadata": {},
   "source": [
    "Schweden hat seit 1991 eine CO2 Steuer. Die Steuer wurde gleichzeitig mit der Absetzung anderer unbeliebter Steurn eingeführt, damit es nicht (so wie zb in Frankreich Gelbwestenbewegung gegen Energiesteuer) zu Protesten in der Bevölkerung kam. Die CO2 Steuer wurde außerdem nach und nach \"angezogen\", so dass sich die Bevölkerung und Industrie darauf einstellen konnten. Zudem ist die Steuer unterschiedlich hoch für verschiedene Wirktschaftsbereiche. Industrie die international im Wettbewerb standen, waren einem geringeren Steuersatz ausgesetzt. Aber auch dieser wurde nach und nach angehoben. Außerdem wurden 2005 Ausnahmeregelungen eingeführt um Doppelbelastungen von dem EU-eingeführten Emissionshandel zuverhindern. Nichts destotrotz gilt Schweden weltweit als \"Vorzeigeland\" in dem sich Wirtschaftswachstum und CO2 Reduktion vereinbaren lässt. Heute liegt die Steuer bei etwa 115€/t CO2. Bei diesen Preisen ist zum Beispiel eine Ölheizung nicht mehr rentabel und Wärmepumpen werden sehr attraktiv. "
   ]
  },
  {
   "cell_type": "markdown",
   "metadata": {},
   "source": [
    "## 4.3 Rebound Effekt"
   ]
  },
  {
   "cell_type": "markdown",
   "metadata": {},
   "source": [
    "### 4.3.1 Status quo"
   ]
  },
  {
   "cell_type": "code",
   "execution_count": 44,
   "metadata": {},
   "outputs": [
    {
     "name": "stdout",
     "output_type": "stream",
     "text": [
      "Wirtschaftlicher Profit: 180\n",
      "Buchhalterischer Profit: 310\n"
     ]
    }
   ],
   "source": [
    "K = 130\n",
    "L = 290\n",
    "E = 100\n",
    "M = 500\n",
    "Y = 1200\n",
    "pK, pL, pE, pM, pY = 1, 1, 1, 1, 1\n",
    "\n",
    "# Profit:\n",
    "Rev = pY*Y - (pK*K+pL*L+pE*E+pM*M)\n",
    "print(\"Wirtschaftlicher Profit: \"+str(Rev))\n",
    "Rev_acc = pY*Y - (pL*L+pE*E+pM*M)\n",
    "print(\"Buchhalterischer Profit: \"+str(Rev_acc))"
   ]
  },
  {
   "cell_type": "markdown",
   "metadata": {},
   "source": [
    "### 4.3.2"
   ]
  },
  {
   "cell_type": "code",
   "execution_count": 45,
   "metadata": {},
   "outputs": [
    {
     "name": "stdout",
     "output_type": "stream",
     "text": [
      "Energie: 65.0\n",
      "Wirtschaftlicher Profit: 215.0\n",
      "Buchhalterischer Profit: 345.0\n"
     ]
    }
   ],
   "source": [
    "# 35% weniger Energie\n",
    "E = E*0.65\n",
    "print(\"Energie: \"+str(E))\n",
    "# Profit:\n",
    "Rev = pY*Y - (pK*K+pL*L+pE*E+pM*M)\n",
    "print(\"Wirtschaftlicher Profit: \"+str(Rev))\n",
    "Rev_acc = pY*Y - (pL*L+pE*E+pM*M)\n",
    "print(\"Buchhalterischer Profit: \"+str(Rev_acc))"
   ]
  },
  {
   "cell_type": "markdown",
   "metadata": {},
   "source": [
    "### 4.3.3"
   ]
  },
  {
   "cell_type": "code",
   "execution_count": 46,
   "metadata": {},
   "outputs": [
    {
     "name": "stdout",
     "output_type": "stream",
     "text": [
      "theoretische Energieeinsparung: 35.0\n",
      "tatsächliche Energieeinsparung: 28.5\n",
      "Rebound: 0.19\n",
      "Wirtschaftlicher Profit: 231.0\n",
      "Buchhalterischer Profit: 367.5\n"
     ]
    }
   ],
   "source": [
    "# Kapital +5%\n",
    "K = K*1.05\n",
    "# Arbeit -10%\n",
    "L = L*0.9\n",
    "# Energie +10%\n",
    "E0 = 100\n",
    "E = E*1.1\n",
    "\n",
    "# theoretische Energieeinsparung\n",
    "th_energiespar = E0 - E/1.1\n",
    "print(\"theoretische Energieeinsparung: \"+str(th_energiespar))\n",
    "# tatsächliche Energieeinsparung\n",
    "tat_energiespar = E0 -E\n",
    "print(\"tatsächliche Energieeinsparung: \"+str(tat_energiespar))\n",
    "\n",
    "# Rebound\n",
    "Rebound = (th_energiespar - tat_energiespar)/th_energiespar\n",
    "print(\"Rebound: \"+str(np.round(Rebound,2)))\n",
    "\n",
    "# Profit:\n",
    "Rev = pY*Y - (pK*K+pL*L+pE*E+pM*M)\n",
    "print(\"Wirtschaftlicher Profit: \"+str(Rev))\n",
    "Rev_acc = pY*Y - (pL*L+pE*E+pM*M)\n",
    "print(\"Buchhalterischer Profit: \"+str(Rev_acc))"
   ]
  },
  {
   "cell_type": "markdown",
   "metadata": {},
   "source": [
    "Hierbei handelt es sich um einen indirekten Rebound Effekt."
   ]
  },
  {
   "cell_type": "markdown",
   "metadata": {},
   "source": [
    "### 4.3.4"
   ]
  },
  {
   "cell_type": "code",
   "execution_count": 47,
   "metadata": {},
   "outputs": [
    {
     "name": "stdout",
     "output_type": "stream",
     "text": [
      "theoretische Energieeinsparung: 35.0\n",
      "tatsächliche Energieeinsparung: 24.92\n",
      "Rebound: 0.29\n",
      "Wirtschaftlicher Profit: 238.78\n",
      "Buchhalterischer Profit: 388.92\n"
     ]
    }
   ],
   "source": [
    "# Kapital +10%\n",
    "K = K*1.1\n",
    "# Energie +5%\n",
    "E = E*1.05\n",
    "E0 = 100\n",
    "# Material -5%\n",
    "M = M*0.95\n",
    "\n",
    "# theoretische Energieeinsparung\n",
    "th_energiespar = E0 - E0*0.65\n",
    "print(\"theoretische Energieeinsparung: \"+str(th_energiespar))\n",
    "# tatsächliche Energieeinsparung\n",
    "tat_energiespar = np.round(E0 - E,2)\n",
    "print(\"tatsächliche Energieeinsparung: \"+str(tat_energiespar))\n",
    "\n",
    "# Rebound\n",
    "Rebound = (th_energiespar - tat_energiespar)/th_energiespar\n",
    "print(\"Rebound: \"+str(np.round(Rebound,2)))\n",
    "\n",
    "# Profit:\n",
    "Rev = pY*Y - (pK*K+pL*L+pE*E+pM*M)\n",
    "print(\"Wirtschaftlicher Profit: \"+str(np.round(Rev,2)))\n",
    "Rev_acc = pY*Y - (pL*L+pE*E+pM*M)\n",
    "print(\"Buchhalterischer Profit: \"+str(np.round(Rev_acc,2)))"
   ]
  },
  {
   "cell_type": "code",
   "execution_count": null,
   "metadata": {},
   "outputs": [],
   "source": []
  },
  {
   "cell_type": "code",
   "execution_count": null,
   "metadata": {},
   "outputs": [],
   "source": []
  },
  {
   "cell_type": "code",
   "execution_count": null,
   "metadata": {},
   "outputs": [],
   "source": []
  }
 ],
 "metadata": {
  "kernelspec": {
   "display_name": "Python 3",
   "language": "python",
   "name": "python3"
  },
  "language_info": {
   "codemirror_mode": {
    "name": "ipython",
    "version": 3
   },
   "file_extension": ".py",
   "mimetype": "text/x-python",
   "name": "python",
   "nbconvert_exporter": "python",
   "pygments_lexer": "ipython3",
   "version": "3.8.3"
  }
 },
 "nbformat": 4,
 "nbformat_minor": 4
}
