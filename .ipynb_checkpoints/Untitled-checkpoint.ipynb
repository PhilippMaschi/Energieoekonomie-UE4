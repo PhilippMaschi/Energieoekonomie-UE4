{
 "cells": [
  {
   "cell_type": "markdown",
   "metadata": {},
   "source": [
    "# 4. Energiepolitische Instrumente"
   ]
  },
  {
   "cell_type": "markdown",
   "metadata": {},
   "source": [
    "## 4.1 Nachfrageelastizität"
   ]
  },
  {
   "cell_type": "code",
   "execution_count": 11,
   "metadata": {},
   "outputs": [],
   "source": [
    "import numpy as np"
   ]
  },
  {
   "cell_type": "code",
   "execution_count": 29,
   "metadata": {},
   "outputs": [
    {
     "name": "stdout",
     "output_type": "stream",
     "text": [
      "Nachfrage: [0.0, 20.0, 40.0, 60.0, 80.0]\n",
      "Preis: [160, 120, 80, 40, 0]\n",
      "Die Preiselastizität ergibt sich zu: 0.5\n"
     ]
    }
   ],
   "source": [
    "Pe = [160, 120, 80, 40, 0]\n",
    "Nachfrage = []\n",
    "for i in Pe:\n",
    "    E = 80 - 0.5*i\n",
    "    Nachfrage.append(E)\n",
    "print(\"Nachfrage: \"+str(Nachfrage))\n",
    "print(\"Preis: \"+str(Pe))\n",
    "\n",
    "deltaP = 40\n",
    "deltaE = 20\n",
    "elast = deltaE/deltaP\n",
    "    \n",
    "print(\"Die Preiselastizität ergibt sich zu: \" + str(elast))\n",
    "\n",
    "# Preiselastizität ist E/pe\n",
    "    #elast = round(E/i,2)\n",
    "    #print(\"Bei einem Energiepreis von \" + str(i)+\" ergibt sich die Nachfrage zu: \" +  str(E) +\" und somit eine\\\n",
    "    #Preiselastizztät von \" + str(elast))"
   ]
  },
  {
   "cell_type": "markdown",
   "metadata": {},
   "source": [
    "Das bedeutet, dass die Nachfrage eher elastisch ist. Mit einer Preissteigerung von 10% fällt die Nachfrage um 5%."
   ]
  },
  {
   "cell_type": "markdown",
   "metadata": {},
   "source": []
  },
  {
   "cell_type": "code",
   "execution_count": null,
   "metadata": {},
   "outputs": [],
   "source": []
  }
 ],
 "metadata": {
  "kernelspec": {
   "display_name": "Python 3",
   "language": "python",
   "name": "python3"
  },
  "language_info": {
   "codemirror_mode": {
    "name": "ipython",
    "version": 3
   },
   "file_extension": ".py",
   "mimetype": "text/x-python",
   "name": "python",
   "nbconvert_exporter": "python",
   "pygments_lexer": "ipython3",
   "version": "3.8.3"
  }
 },
 "nbformat": 4,
 "nbformat_minor": 4
}
